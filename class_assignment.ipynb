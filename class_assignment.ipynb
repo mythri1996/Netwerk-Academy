{
 "cells": [
  {
   "cell_type": "markdown",
   "metadata": {},
   "source": [
    "1.\tWrite a function to remove duplicate values in a string.\n",
    "Ex: ‘Hello’ as input, the output should be ‘Helo’. ‘Good’ as input, the output should be ‘God’.\n",
    "\t\n",
    "2.\tWrite a class and method under it to perform squareRoot, cuberoot and Nth root of a number.\n",
    "Ex:- If I pass number 8 and 3, it should return cube root of 8. If I pass 16 and 4, it should retutn fourth root of 16.\n",
    "\n",
    "3.\tWrite a function which takes a list as input and returns list in a reverse order.\n",
    "Ex: [1,3,4,5,6] the output should be [6,5,4,3,1]\n",
    "\n",
    "4.\tWrite a class which takes three inputs and returns the smallest and the largest number.\n",
    "Ex: ClassName.smallest(1,2,3) should return 1. ClassName.largest(1,2,3) should return 3.\n",
    "\n"
   ]
  },
  {
   "cell_type": "code",
   "execution_count": 1,
   "metadata": {},
   "outputs": [
    {
     "name": "stdout",
     "output_type": "stream",
     "text": [
      "hello\n",
      "helo\n"
     ]
    }
   ],
   "source": [
    "#1.)\n",
    "def duplicate_str(s):\n",
    "    new_str=set((s))\n",
    "    str1=''.join(new_str)\n",
    "    t=''\n",
    "    for i in s:\n",
    "        if(i in t):\n",
    "            pass\n",
    "        else:\n",
    "            t=t+i\n",
    "    return t\n",
    "\n",
    "\n",
    "s=input()\n",
    "print(duplicate_str(s))"
   ]
  },
  {
   "cell_type": "code",
   "execution_count": 3,
   "metadata": {},
   "outputs": [
    {
     "name": "stdout",
     "output_type": "stream",
     "text": [
      "enter the number :5\n",
      " enter the  root3\n"
     ]
    },
    {
     "data": {
      "text/plain": [
       "'5 root is 3 is 1.7099759466766968'"
      ]
     },
     "execution_count": 3,
     "metadata": {},
     "output_type": "execute_result"
    }
   ],
   "source": [
    "#2.\n",
    "class Operation:\n",
    "    def ___init___(self,x,r):\n",
    "        x=self.x\n",
    "        r=self.r\n",
    "    def root(self,x,r):\n",
    "        return f'{x} root is {r} is {x**(1/r)}'\n",
    "        \n",
    "    \n",
    "    \n",
    "    \n",
    "obj=Operation()\n",
    "obj.root(x=int(input(\"enter the number :\")),\n",
    "           r=int(input(\" enter the  root\")))"
   ]
  },
  {
   "cell_type": "code",
   "execution_count": 4,
   "metadata": {},
   "outputs": [
    {
     "name": "stdout",
     "output_type": "stream",
     "text": [
      "5\n",
      "1\n",
      "2\n",
      "3\n",
      "4\n",
      "5\n"
     ]
    },
    {
     "data": {
      "text/plain": [
       "[5, 4, 3, 2, 1]"
      ]
     },
     "execution_count": 4,
     "metadata": {},
     "output_type": "execute_result"
    }
   ],
   "source": [
    "#3.)\n",
    "def get_reverselist(l):\n",
    "    l.reverse()\n",
    "    return l\n",
    "\n",
    "    \n",
    "    \n",
    "a=int(input())\n",
    "l=[]\n",
    "for i in range(a):\n",
    "    l.append(int(input()))\n",
    "get_reverselist(l)\n",
    "\n",
    "\n",
    "    \n"
   ]
  },
  {
   "cell_type": "code",
   "execution_count": 5,
   "metadata": {},
   "outputs": [
    {
     "name": "stdout",
     "output_type": "stream",
     "text": [
      "enter the num1 :5\n",
      "enter the num2 :6\n",
      "enter the num3 2\n"
     ]
    },
    {
     "data": {
      "text/plain": [
       "'smallest number is 2 and Largest number is 6'"
      ]
     },
     "execution_count": 5,
     "metadata": {},
     "output_type": "execute_result"
    }
   ],
   "source": [
    "#4.)1st method\n",
    "class Number:\n",
    "    def smallest_largest(self,a,b,c):\n",
    "        return f'smallest number is {min(a,b,c)} and Largest number is {max(a,b,c)}'\n",
    "    \n",
    "    \n",
    "\n",
    "obj=Number()\n",
    "obj.smallest_largest(a=int(input(\"enter the num1 :\")),\n",
    "                b=int(input(\"enter the num2 :\")),\n",
    "                c=int(input(\"enter the num3 \")))\n",
    "\n",
    "\n",
    "\n",
    "\n",
    "\n"
   ]
  },
  {
   "cell_type": "code",
   "execution_count": null,
   "metadata": {},
   "outputs": [],
   "source": [
    "#4) 2nd method\n",
    "class Number:\n",
    "    def init (self,a,b,c):\n",
    "        a=self.a\n",
    "        b=self.b\n",
    "        c=self.c\n",
    "        print(a,b,c)\n",
    "    def get_smallest_number(self):\n",
    "        if(self.a<self.b and self.a<self.c):\n",
    "            return self.a\n",
    "        elif(self.b<self.a and self.b<self.c):\n",
    "            return self.b\n",
    "        elif(self.c<self.a and self.c<self.b):\n",
    "            return self.c\n",
    "        else:\n",
    "            print(\"corect number\")\n",
    "    def get_largest_number(self):\n",
    "        if(self.a>self.b and self.a>self.c):\n",
    "            return self.a\n",
    "        elif(self.b>self.a and self.b>self.c):\n",
    "            return self.b\n",
    "        elif(self.c>self.a and self.c>self.b):\n",
    "            return self.c\n",
    "        else:\n",
    "            print(\"enter corect number\")\n",
    "            \n",
    "    a=int(input(\"enter the input :\"))\n",
    "    b=int(input(\"enter the input2 :\"))\n",
    "    c=int(input(\"enter the input3 \"))\n",
    "obj = Number()\n",
    "print(obj.get_smallest_number())\n",
    "print(obj.get_largest_number())\n",
    "\n"
   ]
  },
  {
   "cell_type": "code",
   "execution_count": 7,
   "metadata": {},
   "outputs": [],
   "source": []
  },
  {
   "cell_type": "code",
   "execution_count": null,
   "metadata": {},
   "outputs": [],
   "source": []
  },
  {
   "cell_type": "code",
   "execution_count": null,
   "metadata": {},
   "outputs": [],
   "source": [
    "\n",
    "\n"
   ]
  },
  {
   "cell_type": "code",
   "execution_count": null,
   "metadata": {},
   "outputs": [],
   "source": []
  },
  {
   "cell_type": "code",
   "execution_count": null,
   "metadata": {},
   "outputs": [],
   "source": []
  },
  {
   "cell_type": "code",
   "execution_count": null,
   "metadata": {},
   "outputs": [],
   "source": [
    "\n"
   ]
  },
  {
   "cell_type": "code",
   "execution_count": null,
   "metadata": {},
   "outputs": [],
   "source": []
  },
  {
   "cell_type": "code",
   "execution_count": null,
   "metadata": {},
   "outputs": [],
   "source": [
    "\n"
   ]
  },
  {
   "cell_type": "code",
   "execution_count": null,
   "metadata": {},
   "outputs": [],
   "source": []
  },
  {
   "cell_type": "code",
   "execution_count": null,
   "metadata": {},
   "outputs": [],
   "source": []
  },
  {
   "cell_type": "code",
   "execution_count": null,
   "metadata": {},
   "outputs": [],
   "source": []
  },
  {
   "cell_type": "code",
   "execution_count": null,
   "metadata": {},
   "outputs": [],
   "source": []
  },
  {
   "cell_type": "code",
   "execution_count": null,
   "metadata": {},
   "outputs": [],
   "source": []
  },
  {
   "cell_type": "code",
   "execution_count": null,
   "metadata": {},
   "outputs": [],
   "source": []
  },
  {
   "cell_type": "code",
   "execution_count": null,
   "metadata": {},
   "outputs": [],
   "source": []
  },
  {
   "cell_type": "code",
   "execution_count": null,
   "metadata": {},
   "outputs": [],
   "source": []
  },
  {
   "cell_type": "code",
   "execution_count": null,
   "metadata": {},
   "outputs": [],
   "source": []
  },
  {
   "cell_type": "code",
   "execution_count": null,
   "metadata": {},
   "outputs": [],
   "source": []
  }
 ],
 "metadata": {
  "kernelspec": {
   "display_name": "Python 3",
   "language": "python",
   "name": "python3"
  }
 },
 "nbformat": 4,
 "nbformat_minor": 2
}
